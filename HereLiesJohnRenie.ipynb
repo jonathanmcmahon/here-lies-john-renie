{
 "cells": [
  {
   "cell_type": "markdown",
   "metadata": {},
   "source": [
    "# *\"Here Lies John Renie\"* #\n",
    "\n",
    "John Renie was a Welsh painter who died in 1832 at the age of 33.\n",
    "\n",
    "His grave marker is unusual. It is a large rectangular 285-letter acrostic puzzle, with the words **\"Here Lies John Renie\"** carved into the stone. The story is that he carved this himself; that given his position in society he would have had to have carved it himself.\n",
    "\n",
    "<p>&nbsp;</p>\n",
    "\n",
    "![](images/marker.jpg)\n",
    "*([source](https://www.findagrave.com/memorial/83701713/john-renie/photo#view-photo=157794325))*\n",
    "\n",
    "<p>&nbsp;</p>\n",
    "\n",
    "![](images/marker_detail.jpg)\n",
    "*([source](https://en.wikipedia.org/wiki/St_Mary%27s_Priory_Church,_Monmouth#/media/File:DYK_John_R_in_Monmouth.jpg))*\n",
    "\n",
    "<p>&nbsp;</p>\n",
    "\n",
    "As you can see in the picture above, the puzzle consists of an interesting pattern whereby the string \"Here Lies John Renie\" radiates out from the center tile in all directions. Start at the centermost square, an \"H\", and move in any direction away from the center. At any point, you can move in any direction as long as it takes you further away from the origin tile, and the string continues to spell out Renie's epitaph. \n",
    "\n",
    "\n",
    "## Manhattan Distance ##\n",
    "\n",
    "I decided to try to work out the algorithm for this interesting pattern's generation. I realized that the character at each location on the grid was determined by its **Manhattan distance** from the origin (center) tile.\n",
    "\n",
    "Manhattan distance is sometimes referred to as [\"taxicab geometry\"](https://en.wikipedia.org/wiki/Taxicab_geometry)... If you think of yourself being in a city and having to travel to some destination northeast of your current location, the *Euclidean distance* to the destination is the straight-line distance&mdash;\"as the crow flies.\" \n",
    "\n",
    "The *Manhattan distance* is the distance via taxicab... first you would drive north *x* city blocks, and then turn right and go east *y* city blocks. A lot like the pattern on this tombstone, if each character were a city block.\n",
    "\n",
    "Except that your current location would be the centermost tile on the tombstone pattern, and your destination is an edge tile. The pattern essentially encodes each tile's total distance from the center tile.\n",
    "\n",
    "**Below is a routine that generates the acrostic inscription on John Renie's tombstone using the Manhattan distance:**\n"
   ]
  },
  {
   "cell_type": "code",
   "execution_count": 1,
   "metadata": {},
   "outputs": [
    {
     "name": "stdout",
     "output_type": "stream",
     "text": [
      "E I N E R N H O J O H N R E N I E \n",
      "I N E R N H O J S J O H N R E N I \n",
      "N E R N H O J S E S J O H N R E N \n",
      "E R N H O J S E I E S J O H N R E \n",
      "R N H O J S E I L I E S J O H N R \n",
      "N H O J S E I L E L I E S J O H N \n",
      "H O J S E I L E R E L I E S J O H \n",
      "O J S E I L E R E R E L I E S J O \n",
      "J S E I L E R E H E R E L I E S J \n",
      "O J S E I L E R E R E L I E S J O \n",
      "H O J S E I L E R E L I E S J O H \n",
      "N H O J S E I L E L I E S J O H N \n",
      "R N H O J S E I L I E S J O H N R \n",
      "E R N H O J S E I E S J O H N R E \n",
      "N E R N H O J S E S J O H N R E N \n",
      "I N E R N H O J S J O H N R E N I \n",
      "E I N E R N H O J O H N R E N I E \n"
     ]
    }
   ],
   "source": [
    "# Manhattan distance\n",
    "def manhattan_distance(x1, y1, x2, y2):\n",
    "    return abs(x1 - x2) + abs(y1 - y2)\n",
    "\n",
    "# The message\n",
    "epitaph = \"HERELIESJOHNRENIE\"\n",
    "\n",
    "# Message length must be odd\n",
    "if len(epitaph) % 2 == 0:\n",
    "    epitaph += \" \"\n",
    "\n",
    "# Set our start square on the grid\n",
    "halfway = len(epitaph) // 2\n",
    "start_square = (halfway, halfway)\n",
    "\n",
    "# The algorithm\n",
    "for i in range(len(epitaph)):\n",
    "    row = []\n",
    "    for j in range(len(epitaph)):\n",
    "        dist = manhattan_distance(*start_square, i, j)\n",
    "        row.append(epitaph[dist] + \" \")\n",
    "    print(\"\".join(row))\n"
   ]
  },
  {
   "cell_type": "markdown",
   "metadata": {},
   "source": [
    "<p>&nbsp;</p>\n",
    "\n",
    "Note that you can use any string, but strings with an odd number of characters look best.\n",
    "\n",
    "<p>&nbsp;</p>\n",
    "\n",
    "<p>&nbsp;</p>\n"
   ]
  },
  {
   "cell_type": "markdown",
   "metadata": {},
   "source": [
    "*References:*\n",
    "    \n",
    "1. John Renie (1799-1832) - Find A Grave Memorial (https://www.findagrave.com/memorial/83701713/john-renie)\n",
    "2. St Mary's Priory Church, Monmouth (https://en.wikipedia.org/wiki/St_Mary%27s_Priory_Church,_Monmouth)"
   ]
  }
 ],
 "metadata": {
  "kernelspec": {
   "display_name": "Python 3",
   "language": "python",
   "name": "python3"
  },
  "language_info": {
   "codemirror_mode": {
    "name": "ipython",
    "version": 3
   },
   "file_extension": ".py",
   "mimetype": "text/x-python",
   "name": "python",
   "nbconvert_exporter": "python",
   "pygments_lexer": "ipython3",
   "version": "3.6.5"
  }
 },
 "nbformat": 4,
 "nbformat_minor": 2
}
